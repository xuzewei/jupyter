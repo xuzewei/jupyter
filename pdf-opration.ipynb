{
 "cells": [
  {
   "cell_type": "code",
   "execution_count": 9,
   "metadata": {},
   "outputs": [
    {
     "name": "stderr",
     "output_type": "stream",
     "text": [
      "PdfReadWarning: Xref table not zero-indexed. ID numbers for objects will be corrected. [pdf.py:1736]\n"
     ]
    }
   ],
   "source": [
    "from PyPDF2 import PdfFileWriter, PdfFileReader\n",
    "\n",
    "filename = '/mnt/e/2019-06-26_WebUser.pdf'\n",
    "\n",
    "pages_to_delete = [0] # page numbering starts from 0\n",
    "infile = PdfFileReader(filename, 'rb')\n",
    "output = PdfFileWriter()\n",
    "\n",
    "for i in range(infile.getNumPages()):\n",
    "    if i not in pages_to_delete:\n",
    "        p = infile.getPage(i)\n",
    "        output.addPage(p)\n",
    "\n",
    "with open(filename, 'wb') as f:\n",
    "    output.write(f)"
   ]
  },
  {
   "cell_type": "code",
   "execution_count": 1,
   "metadata": {},
   "outputs": [
    {
     "data": {
      "text/plain": [
       "[<PIL.JpegImagePlugin.JpegImageFile image mode=RGB size=3171x4295 at 0x7F3FC84A9B70>]"
      ]
     },
     "execution_count": 1,
     "metadata": {},
     "output_type": "execute_result"
    }
   ],
   "source": [
    "from pdf2image import convert_from_path, convert_from_bytes\n",
    "from pdf2image.exceptions import (\n",
    "    PDFInfoNotInstalledError,\n",
    "    PDFPageCountError,\n",
    "    PDFSyntaxError\n",
    ")\n",
    "\n",
    "filename = '/mnt/e/magazine/2019-07-01_Writer_s_Digest.pdf'\n",
    "output_path = '/mnt/e/image/'\n",
    "\n",
    "convert_from_path(filename, dpi=300, output_folder=output_path, first_page=1, last_page=1, fmt='jpg')\n",
    "#for image in images:\n",
    "#    image.save('2019-07-01_Writer_s_Digest.jpg', 'JPEG')"
   ]
  },
  {
   "cell_type": "code",
   "execution_count": null,
   "metadata": {},
   "outputs": [],
   "source": []
  }
 ],
 "metadata": {
  "kernelspec": {
   "display_name": "Python 3",
   "language": "python",
   "name": "python3"
  },
  "language_info": {
   "codemirror_mode": {
    "name": "ipython",
    "version": 3
   },
   "file_extension": ".py",
   "mimetype": "text/x-python",
   "name": "python",
   "nbconvert_exporter": "python",
   "pygments_lexer": "ipython3",
   "version": "3.6.7"
  }
 },
 "nbformat": 4,
 "nbformat_minor": 4
}
