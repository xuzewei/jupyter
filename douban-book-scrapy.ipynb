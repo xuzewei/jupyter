{
 "cells": [
  {
   "cell_type": "markdown",
   "metadata": {},
   "source": [
    "os: Ubuntu\n",
    "Version：Python 3\n",
    "Website：www.douban.com\n",
    "pip3 installl: beautifulsoup4, mysql.connector, lxml\n",
    "apt-get install: python3-lxml"
   ]
  },
  {
   "cell_type": "markdown",
   "metadata": {},
   "source": [
    "通过网站归类标签中“个人管理”类，获取书籍基础信息"
   ]
  },
  {
   "cell_type": "code",
   "execution_count": 2,
   "metadata": {},
   "outputs": [
    {
     "name": "stdout",
     "output_type": "stream",
     "text": [
      "少有人走的路\n",
      "[美] M·斯科特·派克 / 于海生 / 吉林文史出版社 / 2007-1 / 26.00元\n"
     ]
    }
   ],
   "source": [
    "# coding=utf-8\n",
    "\n",
    "import requests\n",
    "from bs4 import BeautifulSoup\n",
    "from requests.utils import requote_uri\n",
    "\n",
    "\n",
    "url='http://www.douban.com/tag/' + requote_uri('个人管理') + '/book?start=0'\n",
    "html = requests.get(url)\n",
    "soup = BeautifulSoup(html.content,'lxml')\n",
    "\n",
    "class_books = soup.find('div', {'class': 'mod book-list'})\n",
    "books = class_books.find_all('dd')\n",
    "for book_info in books:\n",
    "    title = book_info.find('a', {'class':'title'})\n",
    "    print(title.get_text())\n",
    "    desc = book_info.find('div', {'class':'desc'}).get_text()\n",
    "    print(desc.strip())\n",
    "    break"
   ]
  },
  {
   "cell_type": "markdown",
   "metadata": {},
   "source": [
    "统计“小说”标签类的书籍总量"
   ]
  },
  {
   "cell_type": "code",
   "execution_count": 4,
   "metadata": {},
   "outputs": [
    {
     "name": "stdout",
     "output_type": "stream",
     "text": [
      "书籍数量： 1000\n"
     ]
    }
   ],
   "source": [
    "# coding=utf-8\n",
    "\n",
    "import requests\n",
    "from bs4 import BeautifulSoup\n",
    "import time\n",
    "import numpy as np\n",
    "import urllib\n",
    "\n",
    "\n",
    "#Some User Agents\n",
    "hds=[{'User-Agent':'Mozilla/5.0 (Windows; U; Windows NT 6.1; en-US; rv:1.9.1.6) Gecko/20091201 Firefox/3.5.6'},\\\n",
    "{'User-Agent':'Mozilla/5.0 (Windows NT 6.2) AppleWebKit/535.11 (KHTML, like Gecko) Chrome/17.0.963.12 Safari/535.11'},\\\n",
    "{'User-Agent': 'Mozilla/5.0 (compatible; MSIE 10.0; Windows NT 6.2; Trident/6.0)'}]\n",
    "\n",
    "\n",
    "page_number = 0\n",
    "page_counter = 0\n",
    "try_times = 0\n",
    "flag = True\n",
    "tag = '新书'\n",
    "url_base = 'https://book.douban.com/tag/'\n",
    "\n",
    "\n",
    "while(flag): \n",
    "    url= url_base + urllib.request.quote(tag) + '?start=' + str(page_number*20) + '&type=T'\n",
    "\n",
    "    time.sleep(np.random.rand()*5)\n",
    "    \n",
    "    html = requests.get(url, headers=hds[page_number%len(hds)])\n",
    "    soup = BeautifulSoup(html.content,'lxml')\n",
    "\n",
    "    class_books = soup.find('ul', {'class': 'subject-list'})\n",
    "    books = class_books.find_all('li')\n",
    "    \n",
    "    if books==None and try_times>5:\n",
    "        try_times+=1;\n",
    "        continue\n",
    "    elif len(books)<=1 or books==None:\n",
    "        break\n",
    "\n",
    "    page_number += 1\n",
    "    try_times = 0\n",
    "    \n",
    "    \n",
    "print('书籍数量：', page_number*20)\n",
    "    "
   ]
  },
  {
   "cell_type": "markdown",
   "metadata": {},
   "source": [
    "**Create database 'douban-books'**\n",
    "```\n",
    "CREATE DATABASE IF NOT EXISTS douban-books DEFAULT CHARSET = utf8 COLLATE = utf8_general_ci;\n",
    "```\n",
    "\n",
    "**Create table 'tag-novel'**\n",
    "```\n",
    "USE douban-books;\n",
    "\n",
    "CREATE TABLE IF NOT EXISTS `tag-novel`(\n",
    "   `novel_title` VARCHAR(100) NOT NULL,\n",
    "   `novel_author` VARCHAR(20),\n",
    "   `novel_publishing` VARCHAR(100),\n",
    "   `novel_press_date` DATE,\n",
    "   `novel_price` VARCHAR(100),\n",
    "   `novel_img_website` VARCHAR(500),\n",
    "   PRIMARY KEY ( `novel_title` )\n",
    ")ENGINE=InnoDB DEFAULT CHARSET=utf8;\n",
    "```"
   ]
  },
  {
   "cell_type": "markdown",
   "metadata": {},
   "source": [
    "数据库连接"
   ]
  },
  {
   "cell_type": "code",
   "execution_count": 6,
   "metadata": {},
   "outputs": [
    {
     "name": "stdout",
     "output_type": "stream",
     "text": [
      "<mysql.connector.connection.MySQLConnection object at 0x0000022C95221898>\n"
     ]
    }
   ],
   "source": [
    "import mysql.connector as mariadb\n",
    "\n",
    "mariadb_connection = mariadb.connect(\n",
    "    host = 'localhost',\n",
    "    user = 'root',\n",
    "    password = '',\n",
    "    database = 'douban_books'\n",
    ")\n",
    "\n",
    "cursor = mariadb_connection.cursor()\n",
    "\n",
    "print(mariadb_connection)"
   ]
  },
  {
   "cell_type": "markdown",
   "metadata": {},
   "source": [
    "插入标签“小说”类书籍信息到MySQL"
   ]
  },
  {
   "cell_type": "code",
   "execution_count": null,
   "metadata": {},
   "outputs": [],
   "source": [
    "# coding=utf-8\n",
    "\n",
    "import requests\n",
    "from bs4 import BeautifulSoup\n",
    "import time\n",
    "import numpy as np\n",
    "import urllib\n",
    "import mysql.connector as mariadb\n",
    "\n",
    "\n",
    "# Some User Agents\n",
    "hds=[{'User-Agent':'Mozilla/5.0 (Windows; U; Windows NT 6.1; en-US; rv:1.9.1.6) Gecko/20091201 Firefox/3.5.6'},\\\n",
    "{'User-Agent':'Mozilla/5.0 (Windows NT 6.2) AppleWebKit/535.11 (KHTML, like Gecko) Chrome/17.0.963.12 Safari/535.11'},\\\n",
    "{'User-Agent': 'Mozilla/5.0 (compatible; MSIE 10.0; Windows NT 6.2; Trident/6.0)'}]\n",
    "\n",
    "# open a connection of mariadb\n",
    "mariadb_connection = mariadb.connect(\n",
    "    host = 'localhost',\n",
    "    user = 'root',\n",
    "    password = '',\n",
    "    database = 'douban_books'\n",
    ")\n",
    "\n",
    "# get mariadb cursor\n",
    "cursor = mariadb_connection.cursor()\n",
    "\n",
    "page_number = 0\n",
    "page_counter = 0\n",
    "try_times = 0\n",
    "flag = True\n",
    "tag = '新书'\n",
    "url_base = 'https://book.douban.com/tag/'\n",
    "\n",
    "\n",
    "while(flag): \n",
    "    url= url_base + urllib.request.quote(tag) + '?start=' + str(page_number*20) + '&type=T'\n",
    "    \n",
    "    time.sleep(np.random.rand()*5)\n",
    "    \n",
    "    html = requests.get(url, headers=hds[page_number%len(hds)])\n",
    "    soup = BeautifulSoup(html.content,'lxml')\n",
    "\n",
    "    class_books = soup.find('ul', {'class': 'subject-list'})\n",
    "    books = class_books.find_all('li')\n",
    "    \n",
    "    if books==None and try_times>5:\n",
    "        try_times+=1;\n",
    "        continue\n",
    "    elif len(books)<=1 or books==None:\n",
    "        break\n",
    "    # end if \n",
    "        \n",
    "    for book_info in books:\n",
    "        info = book_info.find('div', {'class': 'info'})\n",
    "        title = info.find('a')['title'].strip()\n",
    "        pub = info.find('div', {'class': 'pub'}).get_text().strip()\n",
    "        list_pub = pub.split('/')\n",
    "\n",
    "\n",
    "        if len(list_pub) == 4:\n",
    "            author = list_pub[0].strip()\n",
    "            publishing = list_pub[1].strip()\n",
    "            press_year = list_pub[2].strip()\n",
    "            price = list_pub[3].strip()\n",
    "        # end if\n",
    "\n",
    "        img = book_info.find('img')['src']\n",
    "        # run error\n",
    "        #preface = book_info.find('p').get_text().strip()\n",
    "        \n",
    "        # insert information to mariadb\n",
    "        try:\n",
    "            cursor.execute(\n",
    "                \"INSERT INTO tag_novel ( \\\n",
    "                    novel_title, \\\n",
    "                    novel_author, \\\n",
    "                    novel_publishing, \\\n",
    "                    novel_press_date, \\\n",
    "                    novel_price, \\\n",
    "                    novel_img_website \\\n",
    "                ) \\\n",
    "                VALUES (%s, %s, %s, %s, %s, %s)\", \n",
    "                ( \n",
    "                    title,\n",
    "                    author,\n",
    "                    publishing,\n",
    "                    press_year,\n",
    "                    price,\n",
    "                    img\n",
    "                )\n",
    "            )\n",
    "        except mariadb.Error as error:\n",
    "            print(\"Error: {}\".format(error))\n",
    "            continue\n",
    "        # end try\n",
    "\n",
    "    # end for\n",
    "\n",
    "    page_number += 1\n",
    "    try_times = 0\n",
    "    \n",
    "    print(page_number)\n",
    "    \n",
    "# end while\n",
    "\n",
    "# mariadb transaction commit\n",
    "mariadb_connection.commit()\n",
    "\n",
    "# close a connection of mariadb\n",
    "mariadb_connection.close()\n",
    "    \n"
   ]
  },
  {
   "cell_type": "markdown",
   "metadata": {},
   "source": [
    "For Example: 使用XML-RPC with python"
   ]
  },
  {
   "cell_type": "code",
   "execution_count": 4,
   "metadata": {},
   "outputs": [
    {
     "data": {
      "text/plain": [
       "'5361'"
      ]
     },
     "execution_count": 4,
     "metadata": {},
     "output_type": "execute_result"
    }
   ],
   "source": [
    "from wordpress_xmlrpc import Client, WordPressPost\n",
    "from wordpress_xmlrpc.methods.posts import GetPosts, NewPost\n",
    "from wordpress_xmlrpc.methods.users import GetUserInfo\n",
    "\n",
    "wp = Client('http://localhost/wordpress-magazine/xmlrpc.php', 'admin', 'admin')\n",
    "wp.call(GetPosts())\n",
    "\n",
    "wp.call(GetUserInfo())\n",
    "\n",
    "post = WordPressPost()\n",
    "post.title = 'My new title'\n",
    "post.content = 'This is the body of my new post.'\n",
    "post.terms_names = {\n",
    "    'post_tag': ['test', 'firstpost'],\n",
    "    'category': ['Introductions', 'Tests']\n",
    "}\n",
    "wp.call(NewPost(post))"
   ]
  },
  {
   "cell_type": "markdown",
   "metadata": {},
   "source": [
    "带有特色图像缩略图的发布文章"
   ]
  },
  {
   "cell_type": "code",
   "execution_count": 4,
   "metadata": {},
   "outputs": [
    {
     "data": {
      "text/plain": [
       "['C:\\\\Users\\\\xuzew\\\\Documents',\n",
       " 'C:\\\\Users\\\\xuzew\\\\Anaconda3\\\\python37.zip',\n",
       " 'C:\\\\Users\\\\xuzew\\\\Anaconda3\\\\DLLs',\n",
       " 'C:\\\\Users\\\\xuzew\\\\Anaconda3\\\\lib',\n",
       " 'C:\\\\Users\\\\xuzew\\\\Anaconda3',\n",
       " '',\n",
       " 'C:\\\\Users\\\\xuzew\\\\Anaconda3\\\\lib\\\\site-packages',\n",
       " 'C:\\\\Users\\\\xuzew\\\\Anaconda3\\\\lib\\\\site-packages\\\\win32',\n",
       " 'C:\\\\Users\\\\xuzew\\\\Anaconda3\\\\lib\\\\site-packages\\\\win32\\\\lib',\n",
       " 'C:\\\\Users\\\\xuzew\\\\Anaconda3\\\\lib\\\\site-packages\\\\Pythonwin',\n",
       " 'C:\\\\Users\\\\xuzew\\\\Anaconda3\\\\lib\\\\site-packages\\\\IPython\\\\extensions',\n",
       " 'C:\\\\Users\\\\xuzew\\\\.ipython']"
      ]
     },
     "execution_count": 4,
     "metadata": {},
     "output_type": "execute_result"
    }
   ],
   "source": [
    "import sys\n",
    "\n",
    "sys.path"
   ]
  },
  {
   "cell_type": "markdown",
   "metadata": {},
   "source": [
    "下载网上图片"
   ]
  },
  {
   "cell_type": "code",
   "execution_count": 9,
   "metadata": {},
   "outputs": [
    {
     "data": {
      "text/plain": [
       "('s28173928.jpg', <http.client.HTTPMessage at 0x22c95a94f98>)"
      ]
     },
     "execution_count": 9,
     "metadata": {},
     "output_type": "execute_result"
    }
   ],
   "source": [
    "import urllib.request\n",
    "\n",
    "urllib.request.urlretrieve(\"https://img1.doubanio.com/view/subject/m/public/s28173928.jpg\", \"s28173928.jpg\")\n"
   ]
  },
  {
   "cell_type": "markdown",
   "metadata": {},
   "source": [
    "克隆豆瓣书籍英国小说下的书籍到Wordpress"
   ]
  },
  {
   "cell_type": "code",
   "execution_count": null,
   "metadata": {},
   "outputs": [],
   "source": [
    "# coding=utf-8\n",
    "\n",
    "import requests\n",
    "from bs4 import BeautifulSoup\n",
    "import time\n",
    "import numpy as np\n",
    "import urllib\n",
    "\n",
    "\n",
    "# Some User Agents\n",
    "hds=[{'User-Agent':'Mozilla/5.0 (Windows; U; Windows NT 6.1; en-US; rv:1.9.1.6) Gecko/20091201 Firefox/3.5.6'},\\\n",
    "{'User-Agent':'Mozilla/5.0 (Windows NT 6.2) AppleWebKit/535.11 (KHTML, like Gecko) Chrome/17.0.963.12 Safari/535.11'},\\\n",
    "{'User-Agent': 'Mozilla/5.0 (compatible; MSIE 10.0; Windows NT 6.2; Trident/6.0)'}]\n",
    "\n",
    "page_number = 0\n",
    "page_counter = 0\n",
    "try_times = 0\n",
    "flag = True\n",
    "tag = '小说'\n",
    "url_base = 'https://book.douban.com/tag/'\n",
    "\n",
    "\n",
    "while(flag): \n",
    "    url= url_base + urllib.request.quote(tag) + '?start=' + str(page_number*20) + '&type=T'\n",
    "    \n",
    "    time.sleep(np.random.rand()*5)\n",
    "    \n",
    "    html = requests.get(url, headers=hds[page_number%len(hds)])\n",
    "    soup = BeautifulSoup(html.content,'lxml')\n",
    "\n",
    "    class_books = soup.find('ul', {'class': 'subject-list'})\n",
    "    books = class_books.find_all('li')\n",
    "    \n",
    "    if books==None and try_times>5:\n",
    "        try_times+=1;\n",
    "        continue\n",
    "    elif len(books)<=1 or books==None:\n",
    "        break\n",
    "    # end if \n",
    "        \n",
    "    for book_info in books:\n",
    "        info = book_info.find('div', {'class': 'info'})\n",
    "        title = info.find('a')['title'].strip()\n",
    "        pub = info.find('div', {'class': 'pub'}).get_text().strip()\n",
    "        list_pub = pub.split('/')\n",
    "\n",
    "\n",
    "        if len(list_pub) == 4:\n",
    "            author = list_pub[0].strip()\n",
    "            publishing = list_pub[1].strip()\n",
    "            press_year = list_pub[2].strip()\n",
    "            price = list_pub[3].strip()\n",
    "        # end if\n",
    "\n",
    "        img = book_info.find('img')['src']\n",
    "        # run error\n",
    "        #preface = book_info.find('p').get_text().strip()\n",
    "        \n",
    "        # insert information to mariadb\n",
    "        try:\n",
    "            cursor.execute(\n",
    "                \"INSERT INTO tag_novel ( \\\n",
    "                    novel_title, \\\n",
    "                    novel_author, \\\n",
    "                    novel_publishing, \\\n",
    "                    novel_press_date, \\\n",
    "                    novel_price, \\\n",
    "                    novel_img_website \\\n",
    "                ) \\\n",
    "                VALUES (%s, %s, %s, %s, %s, %s)\", \n",
    "                ( \n",
    "                    title,\n",
    "                    author,\n",
    "                    publishing,\n",
    "                    press_year,\n",
    "                    price,\n",
    "                    img\n",
    "                )\n",
    "            )\n",
    "        except mariadb.Error as error:\n",
    "            print(\"Error: {}\".format(error))\n",
    "            continue\n",
    "        # end try\n",
    "\n",
    "    # end for\n",
    "\n",
    "    page_number += 1\n",
    "    try_times = 0\n",
    "    \n",
    "    print(page_number)\n",
    "    \n",
    "# end while\n",
    "\n",
    "    "
   ]
  }
 ],
 "metadata": {
  "kernelspec": {
   "display_name": "Python 3",
   "language": "python",
   "name": "python3"
  },
  "language_info": {
   "codemirror_mode": {
    "name": "ipython",
    "version": 3
   },
   "file_extension": ".py",
   "mimetype": "text/x-python",
   "name": "python",
   "nbconvert_exporter": "python",
   "pygments_lexer": "ipython3",
   "version": "3.6.7"
  }
 },
 "nbformat": 4,
 "nbformat_minor": 4
}
