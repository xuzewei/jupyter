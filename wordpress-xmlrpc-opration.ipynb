{
 "cells": [
  {
   "cell_type": "code",
   "execution_count": null,
   "metadata": {},
   "outputs": [],
   "source": [
    "#coding:utf-8\n",
    "\n",
    "\n",
    "from wordpress_xmlrpc import Client, WordPressPost\n",
    "from wordpress_xmlrpc.methods.posts import GetPosts, NewPost\n",
    "from wordpress_xmlrpc.methods.users import GetUserInfo\n",
    "from wordpress_xmlrpc.methods import posts\n",
    "from wordpress_xmlrpc.methods import taxonomies\n",
    "from wordpress_xmlrpc import WordPressTerm\n",
    "from wordpress_xmlrpc.compat import xmlrpc_client\n",
    "from wordpress_xmlrpc.methods import media, posts\n",
    "\n",
    "\n",
    "wp = Client('http://localhost/wordpress-magazine/xmlrpc.php', 'admin', 'admin')\n",
    "\n",
    "filename = './s28173928.jpg' #上传的图片文件路径\n",
    "# prepare metadata\n",
    "data = {\n",
    "        'name': 's28173928.jpg',\n",
    "        'type': 'image/jpeg',  # mimetype\n",
    "}\n",
    "# read the binary file and let the XMLRPC library encode it into base64\n",
    "with open(filename, 'rb') as img:\n",
    "        data['bits'] = xmlrpc_client.Binary(img.read())\n",
    "response = wp.call(media.UploadFile(data))\n",
    "# response == {\n",
    "#       'id': 6,\n",
    "#       'file': 'picture.jpg'\n",
    "#       'url': 'http://www.example.com/wp-content/uploads/2012/04/16/picture.jpg',\n",
    "#       'type': 'image/jpeg',\n",
    "# }\n",
    "\n",
    "attachment_id = response['id']\n",
    "post = WordPressPost()\n",
    "post.title = '1942—1945：我的上海沦陷生活'\n",
    "post.content = '1942—1945：我的上海沦陷生活，颜滨 著、采金 整理，人民出版社，59.00元'\n",
    "post.post_status = 'publish'  #文章状态，不写默认是草稿，private表示私密的，draft表示草稿，publish表示发布\n",
    "post.terms_names = {\n",
    "    'post_tag': ['Novel', 'firstpost'], #文章所属标签，没有则自动创建\n",
    "    'category': ['Books', 'Tests'] #文章所属分类，没有则自动创建\n",
    " }\n",
    "post.thumbnail = attachment_id #缩略图的id\n",
    "post.id = wp.call(posts.NewPost(post))"
   ]
  }
 ],
 "metadata": {
  "kernelspec": {
   "display_name": "Python 3",
   "language": "python",
   "name": "python3"
  },
  "language_info": {
   "codemirror_mode": {
    "name": "ipython",
    "version": 3
   },
   "file_extension": ".py",
   "mimetype": "text/x-python",
   "name": "python",
   "nbconvert_exporter": "python",
   "pygments_lexer": "ipython3",
   "version": "3.6.7"
  }
 },
 "nbformat": 4,
 "nbformat_minor": 4
}
