{
 "cells": [
  {
   "cell_type": "markdown",
   "metadata": {},
   "source": [
    "#### database: MySQL\n",
    "\n",
    "pip3 install: mysql-connector\n",
    "\n",
    "**Create database 'douban-books'**\n",
    "```\n",
    "CREATE DATABASE IF NOT EXISTS douban-books DEFAULT CHARSET = utf8 COLLATE = utf8_general_ci;\n",
    "```\n",
    "\n",
    "**Create table 'tag-novel'**\n",
    "```\n",
    "USE douban-books;\n",
    "\n",
    "CREATE TABLE IF NOT EXISTS `tag-novel`(\n",
    "   `novel_title` VARCHAR(100) NOT NULL,\n",
    "   `novel_author` VARCHAR(20),\n",
    "   `novel_publishing` VARCHAR(100),\n",
    "   `novel_press_date` DATE,\n",
    "   `novel_price` VARCHAR(100),\n",
    "   `novel_img_website` VARCHAR(500),\n",
    "   PRIMARY KEY ( `novel_title` )\n",
    ")ENGINE=InnoDB DEFAULT CHARSET=utf8;\n",
    "```"
   ]
  },
  {
   "cell_type": "code",
   "execution_count": 9,
   "metadata": {},
   "outputs": [
    {
     "name": "stdout",
     "output_type": "stream",
     "text": [
      "Total number of rows:  472\n",
      "mariaDB connection is closed.\n"
     ]
    }
   ],
   "source": [
    "import mysql.connector as mariadb\n",
    "from mysql.connector import Error\n",
    "import urllib.request\n",
    "\n",
    "path = '/mnt/e/image/'\n",
    "\n",
    "try:\n",
    "    # open a connection of mariadb\n",
    "    mariadb_connection = mariadb.connect(\n",
    "        host = 'localhost',\n",
    "        user = 'root',\n",
    "        password = '',\n",
    "        database = 'douban_books'\n",
    "    )\n",
    "\n",
    "    # get mariadb cursor\n",
    "    cursor = mariadb_connection.cursor()\n",
    "    \n",
    "    # get rows of table\n",
    "    sql = \"select * from tag_novel\";\n",
    "    cursor.execute(sql)\n",
    "    records = cursor.fetchall()\n",
    "    print(\"Total number of rows: \", cursor.rowcount)\n",
    "    for row in records:\n",
    "        filename = path + row[5].split('/')[-1]\n",
    "        urllib.request.urlretrieve(row[5], filename=filename)\n",
    "    #end for \n",
    "    cursor.close()\n",
    "    \n",
    "except Error as e:\n",
    "    print(\"Error while connecting to mariaDB\", e)\n",
    "    \n",
    "finally:\n",
    "    # close a connection of mariadb\n",
    "    if(mariadb_connection.is_connected()):\n",
    "        mariadb_connection.close()\n",
    "        print(\"mariaDB connection is closed.\")\n",
    "#end try"
   ]
  },
  {
   "cell_type": "code",
   "execution_count": null,
   "metadata": {},
   "outputs": [],
   "source": []
  }
 ],
 "metadata": {
  "kernelspec": {
   "display_name": "Python 3",
   "language": "python",
   "name": "python3"
  },
  "language_info": {
   "codemirror_mode": {
    "name": "ipython",
    "version": 3
   },
   "file_extension": ".py",
   "mimetype": "text/x-python",
   "name": "python",
   "nbconvert_exporter": "python",
   "pygments_lexer": "ipython3",
   "version": "3.6.7"
  }
 },
 "nbformat": 4,
 "nbformat_minor": 4
}
